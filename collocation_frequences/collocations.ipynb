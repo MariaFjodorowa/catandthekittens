{
 "metadata": {
  "name": "",
  "signature": "sha256:6afbf7027cee1db332f5305c1a2d45bba0fc28839f16918aa2b61dda1d5cf441"
 },
 "nbformat": 3,
 "nbformat_minor": 0,
 "worksheets": [
  {
   "cells": [
    {
     "cell_type": "code",
     "collapsed": false,
     "input": [
      "import os\n",
      "st=''\n",
      "for fi in os.listdir('C:\\\\Users\\\\Forpython\\\\Documents\\\\cleaned_law'):\n",
      "    fl = open('C:\\\\Users\\\\Forpython\\\\Documents\\\\cleaned_law\\\\{}'.format(str(fi)), 'r', encoding='utf-8')\n",
      "    s = fl.read()\n",
      "    st = st+s+' *** '\n",
      "with open('C:\\\\Users\\\\Forpython\\\\Documents\\\\all_law.txt', 'w', encoding='utf-8') as f:\n",
      "    f.write(st)"
     ],
     "language": "python",
     "metadata": {},
     "outputs": [],
     "prompt_number": 11
    },
    {
     "cell_type": "code",
     "collapsed": false,
     "input": [
      "import re\n",
      "r = re.compile(u'[0-9\u0430-\u044f\u0410-\u042f\u0451\u0401-]+|[.,:;?!*]+')\n",
      "#r = re.compile(u'[0-9\u0430-\u044f\u0410-\u042f\u0451\u0401-]+|[.?!*]+')"
     ],
     "language": "python",
     "metadata": {},
     "outputs": [],
     "prompt_number": 54
    },
    {
     "cell_type": "code",
     "collapsed": false,
     "input": [
      "f = open('C:\\\\Users\\\\Forpython\\\\Documents\\\\all_law.txt', 'r', encoding='utf-8')\n",
      "text = f.read()\n",
      "f.close()"
     ],
     "language": "python",
     "metadata": {},
     "outputs": [],
     "prompt_number": 2
    },
    {
     "cell_type": "code",
     "collapsed": false,
     "input": [
      "tokens = r.findall(text.lower())"
     ],
     "language": "python",
     "metadata": {},
     "outputs": [],
     "prompt_number": 55
    },
    {
     "cell_type": "code",
     "collapsed": false,
     "input": [
      "import nltk\n",
      "from nltk.collocations import *"
     ],
     "language": "python",
     "metadata": {},
     "outputs": [],
     "prompt_number": 5
    },
    {
     "cell_type": "code",
     "collapsed": false,
     "input": [
      "finder3 = TrigramCollocationFinder.from_words(tokens)\n",
      "finder3.apply_word_filter(lambda w: w in ('***'))\n",
      "trigram_measures = nltk.collocations.TrigramAssocMeasures()\n",
      "lr3 = finder3.score_ngrams(trigram_measures.likelihood_ratio)\n",
      "pmi3 = finder3.score_ngrams(trigram_measures.pmi)\n",
      "raw3=finder3.score_ngrams(trigram_measures.raw_freq)\n",
      "st3=finder3.score_ngrams(trigram_measures.student_t)"
     ],
     "language": "python",
     "metadata": {},
     "outputs": [],
     "prompt_number": 66
    },
    {
     "cell_type": "code",
     "collapsed": false,
     "input": [
      "def assemble_col(col):\n",
      "    s = ''\n",
      "    for i in col:\n",
      "        s = s+i+' '\n",
      "    return s[:-1]"
     ],
     "language": "python",
     "metadata": {},
     "outputs": [],
     "prompt_number": 7
    },
    {
     "cell_type": "code",
     "collapsed": false,
     "input": [
      "import datrie"
     ],
     "language": "python",
     "metadata": {},
     "outputs": [],
     "prompt_number": 8
    },
    {
     "cell_type": "code",
     "collapsed": false,
     "input": [
      "'\u0439\u0446\u0443\u043a\u0435\u043d\u0433\u0448\u0449\u0437\u0445\u044a\u0444\u044b\u0432\u0430\u043f\u0440\u043e\u043b\u0434\u0436\u044d\u044f\u0447\u0441\u043c\u0438\u0442\u044c\u0431\u044e\u0451 -,:;'"
     ],
     "language": "python",
     "metadata": {},
     "outputs": []
    },
    {
     "cell_type": "markdown",
     "metadata": {},
     "source": [
      "[]1 - \u0437\u043d\u0430\u043a\u0438 \u043f\u0440\u0435\u043f\u0438\u043d\u0430\u043d\u0438\u044f - \u043e\u0442\u0434\u0435\u043b\u044c\u043d\u044b\u0439 \u0442\u043e\u043a\u0435\u043d  \n",
      "[]2 - \u043d\u0435 \u0440\u0430\u0437\u0434\u0435\u043b\u0451\u043d\u043d\u044b\u0435 \u0437\u043d\u0430\u043a\u0430\u043c\u0438 \u043f\u0440\u0435\u043f\u0438\u043d\u0430\u043d\u0438\u044f \u0441\u0443\u0449\u043d\u043e\u0441\u0442\u0438  \n",
      "[]3 - \u0441\u043e\u0447\u0435\u0442\u0430\u043d\u0438\u044f \u0431\u0435\u0437 \u0443\u0447\u0451\u0442\u0430 \u0433\u0440\u0430\u043d\u0438\u0446 \u0432\u043d\u0443\u0442\u0440\u0438 \u043f\u0440\u0435\u0434\u043b\u043e\u0436\u0435\u043d\u0438\u044f"
     ]
    },
    {
     "cell_type": "code",
     "collapsed": false,
     "input": [
      "trie_raw31=datrie.Trie('\u0439\u0446\u0443\u043a\u0435\u043d\u0433\u0448\u0449\u0437\u0445\u044a\u0444\u044b\u0432\u0430\u043f\u0440\u043e\u043b\u0434\u0436\u044d\u044f\u0447\u0441\u043c\u0438\u0442\u044c\u0431\u044e\u0451 -,:;')\n",
      "for i in raw3:\n",
      "    trie_raw31[assemble_col(i[0])]=i[1]"
     ],
     "language": "python",
     "metadata": {},
     "outputs": [],
     "prompt_number": 75
    },
    {
     "cell_type": "code",
     "collapsed": false,
     "input": [
      "trie_lr31=datrie.Trie('\u0439\u0446\u0443\u043a\u0435\u043d\u0433\u0448\u0449\u0437\u0445\u044a\u0444\u044b\u0432\u0430\u043f\u0440\u043e\u043b\u0434\u0436\u044d\u044f\u0447\u0441\u043c\u0438\u0442\u044c\u0431\u044e\u0451 -,:;')\n",
      "for i in lr3:\n",
      "    trie_lr31[assemble_col(i[0])]=i[1]"
     ],
     "language": "python",
     "metadata": {},
     "outputs": [],
     "prompt_number": 76
    },
    {
     "cell_type": "code",
     "collapsed": false,
     "input": [
      "trie_pmi31=datrie.Trie('\u0439\u0446\u0443\u043a\u0435\u043d\u0433\u0448\u0449\u0437\u0445\u044a\u0444\u044b\u0432\u0430\u043f\u0440\u043e\u043b\u0434\u0436\u044d\u044f\u0447\u0441\u043c\u0438\u0442\u044c\u0431\u044e\u0451 -,:;')\n",
      "for i in pmi3:\n",
      "    trie_pmi31[assemble_col(i[0])]=i[1]"
     ],
     "language": "python",
     "metadata": {},
     "outputs": [],
     "prompt_number": 77
    },
    {
     "cell_type": "code",
     "collapsed": false,
     "input": [
      "trie_st31=datrie.Trie('\u0439\u0446\u0443\u043a\u0435\u043d\u0433\u0448\u0449\u0437\u0445\u044a\u0444\u044b\u0432\u0430\u043f\u0440\u043e\u043b\u0434\u0436\u044d\u044f\u0447\u0441\u043c\u0438\u0442\u044c\u0431\u044e\u0451 -,:;')\n",
      "for i in st3:\n",
      "    trie_st31[assemble_col(i[0])]=i[1]"
     ],
     "language": "python",
     "metadata": {},
     "outputs": [],
     "prompt_number": 78
    },
    {
     "cell_type": "code",
     "collapsed": false,
     "input": [
      "trie_raw31.save('raw31.trie')"
     ],
     "language": "python",
     "metadata": {},
     "outputs": [],
     "prompt_number": 79
    },
    {
     "cell_type": "code",
     "collapsed": false,
     "input": [
      "trie_lr31.save('lr31.trie')"
     ],
     "language": "python",
     "metadata": {},
     "outputs": [],
     "prompt_number": 80
    },
    {
     "cell_type": "code",
     "collapsed": false,
     "input": [
      "trie_pmi31.save('pmi31.trie')"
     ],
     "language": "python",
     "metadata": {},
     "outputs": [],
     "prompt_number": 81
    },
    {
     "cell_type": "code",
     "collapsed": false,
     "input": [
      "trie_st31.save('st31.trie')"
     ],
     "language": "python",
     "metadata": {},
     "outputs": [],
     "prompt_number": 82
    },
    {
     "cell_type": "code",
     "collapsed": false,
     "input": [],
     "language": "python",
     "metadata": {},
     "outputs": []
    }
   ],
   "metadata": {}
  }
 ]
}