{
 "cells": [
  {
   "cell_type": "code",
   "execution_count": 1,
   "metadata": {
    "collapsed": true
   },
   "outputs": [],
   "source": [
    "import os\n",
    "import re"
   ]
  },
  {
   "cell_type": "code",
   "execution_count": 2,
   "metadata": {
    "collapsed": true
   },
   "outputs": [],
   "source": [
    "dir_to_parse = \"C:\\\\Users\\\\Выхухоль\\\\PycharmProjects\\\\cat\\cleaned\\\\Домен Экономика почищенный\\\\cleaned_eco\""
   ]
  },
  {
   "cell_type": "code",
   "execution_count": 3,
   "metadata": {
    "collapsed": true
   },
   "outputs": [],
   "source": [
    "metadir = 'C:\\\\Users\\\\Выхухоль\\\\PycharmProjects\\\\cat\\\\metas_and_pdfs\\\\экономика\\\\meta'"
   ]
  },
  {
   "cell_type": "code",
   "execution_count": null,
   "metadata": {},
   "outputs": [],
   "source": [
    "url = \"https://ej.hse.ru/archive.html\"\n",
    "journal = \"Экономический журнал ВШЭ\"\n",
    "domain = 'Экономика'\n",
    "for file in os.listdir(dir_to_parse):\n",
    "    with open(os.path.join(dir_to_parse,file),'r',encoding='utf-8') as f:\n",
    "        article = f.read()\n",
    "        year = re.search(\"201\\d\",article).group(0)\n",
    "        article=article.splitlines()\n",
    "        \n",
    "        title, author = '',''\n",
    "        for line in article[1:]:\n",
    "            if not \"ВШЭ\" in line and not \"HSE Economic Journal\" in line and not \"№\" in line:\n",
    "                if not re.search(\"\\w+\\s\\w\\.\\s*\\w\\.\",line):\n",
    "                    title+=(line+' ')\n",
    "                else:\n",
    "                    author = line\n",
    "                    title=re.sub(r\"\\s+\",' ',title.strip()).rstrip('1')\n",
    "                    break\n",
    "        print(file,title,author)\n",
    "        with open(os.path.join(metadir,\"0_{0}\".format(file.split('eco')[1])),'w',encoding='utf-8') as f:\n",
    "            f.write(url+'\\n')\n",
    "            f.write(title+'\\n')\n",
    "            f.write(author+'\\n')\n",
    "            f.write(year+'\\n')\n",
    "            f.write(domain+'\\n')\n",
    "            f.write(journal)\n",
    "            "
   ]
  }
 ],
 "metadata": {
  "kernelspec": {
   "display_name": "Python 3",
   "language": "python",
   "name": "python3"
  },
  "language_info": {
   "codemirror_mode": {
    "name": "ipython",
    "version": 3
   },
   "file_extension": ".py",
   "mimetype": "text/x-python",
   "name": "python",
   "nbconvert_exporter": "python",
   "pygments_lexer": "ipython3",
   "version": "3.6.1"
  }
 },
 "nbformat": 4,
 "nbformat_minor": 2
}
