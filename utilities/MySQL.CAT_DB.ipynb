{
 "cells": [
  {
   "cell_type": "markdown",
   "metadata": {},
   "source": [
    "Для работы с MySQL из Python необходимо установить библиотеку mysql либо при помощи pip install mysql, либо скачав ее с <a href=\"https://dev.mysql.com/downloads/connector/python/\">сайта</a>.<br>\n",
    "\n",
    "**Задача**: залить наш корпус и метаданные в БД. Сделаем это на примере \"Вопросов языкознания\"."
   ]
  },
  {
   "cell_type": "code",
   "execution_count": 2,
   "metadata": {
    "collapsed": true
   },
   "outputs": [],
   "source": [
    "import mysql.connector as mysql\n",
    "import os"
   ]
  },
  {
   "cell_type": "markdown",
   "metadata": {},
   "source": [
    "Для того, чтобы подключиться к базе данных создаем соедиение при помощи метода mysql.connect. В него необходимо передать такие параметры как сервер, на котором стоит СУБД, базу данных (схему), с которой мы собираемся работать, логин и пароль пользователя, имеющего право работать с этой базой."
   ]
  },
  {
   "cell_type": "code",
   "execution_count": 3,
   "metadata": {
    "collapsed": true
   },
   "outputs": [],
   "source": [
    "con = mysql.connect(host='127.0.0.1', database='cat_scheme', user='root', password='')"
   ]
  },
  {
   "cell_type": "markdown",
   "metadata": {},
   "source": [
    "Объект con теперь позволяет работать с соединением. С его помощью создадим курсор, который будет отправлять SQL-запросы и получать их результаты. Параметр dictionary=True означает, что результаты будут возвращаться в виде словаря. То есть SELECT будет возвращать нам список записей, каждая из которых представляется словарем. Ключами в этом словаре будут имена полей, к которым будут привязаны соответствующие значения."
   ]
  },
  {
   "cell_type": "code",
   "execution_count": 4,
   "metadata": {
    "collapsed": true
   },
   "outputs": [],
   "source": [
    "cur=con.cursor(dictionary=True)"
   ]
  },
  {
   "cell_type": "code",
   "execution_count": 13,
   "metadata": {
    "collapsed": true
   },
   "outputs": [],
   "source": [
    "DOMAINS = {\n",
    "    'Лингвистика':'1'\n",
    "}\n",
    "JOURNALS = {\n",
    "    'Вопросы языкознания':'1'\n",
    "}\n",
    "def write_to_db_metas(directory):\n",
    "    list_of_files = os.listdir(directory)\n",
    "    for file in list_of_files:\n",
    "        with open(directory+'/'+file,'r',encoding='utf-8') as f:\n",
    "            text = f.read()           \n",
    "            text = text.replace(\"'\", \"\\\\'\")\n",
    "            lines = text.splitlines()\n",
    "            metadata = []\n",
    "            for line in lines:\n",
    "                if line !='':\n",
    "                    metadata.append(line)\n",
    "            to_insert = \"INSERT INTO meta_cat (domain, year, author, journal, source, Article_name) VALUES ('\"+DOMAINS[metadata[4]]+\"',\\\n",
    "            '\"+metadata[3]+\"','\"+metadata[2]+\"','\"+JOURNALS['Вопросы языкознания']+\"','\"+metadata[0]+\"','\"+metadata[1]+\"')\"\n",
    "            try:\n",
    "                cur.execute(to_insert)\n",
    "            except:\n",
    "                print(to_insert)\n",
    "            con.commit()\n",
    "            \n",
    "write_to_db_metas('meta2015')"
   ]
  },
  {
   "cell_type": "code",
   "execution_count": null,
   "metadata": {
    "scrolled": false
   },
   "outputs": [],
   "source": [
    "def write_to_db_words(directory):\n",
    "    list_of_files = os.listdir(directory)\n",
    "    n_file=1\n",
    "    i=0\n",
    "    for file in list_of_files:\n",
    "        with open(directory+'/'+file,'r',encoding='utf-8') as f:\n",
    "            text = f.read()           \n",
    "            text = text.replace(\"'\", \"\\\\'\")\n",
    "            lines = text.splitlines()\n",
    "            for line in tqdm(lines):\n",
    "                if line !='':\n",
    "                    spl_line = line.split('\\t')\n",
    "                    to_insert = \"INSERT INTO words_cat (id_sent, id_text, word, lemma, POS_tag, Morph, root_dist, sint_role) VALUES ('\"+spl_line[0]+\"', '\"+str(n_file)+\"', '\"+spl_line[1]+\"', '\"+spl_line[2]+\"','\"+spl_line[3]+\"', '\"+spl_line[4]+\"', '\"+spl_line[6]+\"', '\"+spl_line[7]+\"')\"\n",
    "                    try:\n",
    "                        cur.execute(to_insert)\n",
    "                    except:\n",
    "                        print(to_insert)\n",
    "                    i+=1\n",
    "                    con.commit()\n",
    "        n_file+=1\n",
    "DIR_WORDS = 'Лингвистика'\n",
    "write_to_db_words(DIR_WORDS)"
   ]
  },
  {
   "cell_type": "markdown",
   "metadata": {},
   "source": [
    "Теперь попробуем прочитать записанные данные. С оператором <a href=\"https://ru.wikipedia.org/wiki/Select_(SQL)\">SELECT</a> мы уже знакомы. <i>LIMIT 0, 10</i> говорит СУБД, что вернуть надо 10 записей начиная с 0-й. При следующем запросе можно попросить вернуть следующую порцию записей (например, <i>LIMIT 0, 10</i> вернет 10 записей начиная с 10-й)."
   ]
  },
  {
   "cell_type": "code",
   "execution_count": 12,
   "metadata": {},
   "outputs": [],
   "source": [
    "res=cur.execute(\"SELECT * FROM meta_cat LIMIT 0, 10\")"
   ]
  },
  {
   "cell_type": "markdown",
   "metadata": {},
   "source": [
    "Теперь необходимо получить данные с сервера. <a href=\"https://dev.mysql.com/doc/connector-python/en/connector-python-api-mysqlcursor-fetchall.html\">fetchall</a> получает все результаты запроса. В качестве альтернативы можно использовать получение записей по одной - <a href=\"https://dev.mysql.com/doc/connector-python/en/connector-python-api-cext-fetch-row.html\">fetch_row</a>."
   ]
  },
  {
   "cell_type": "code",
   "execution_count": 13,
   "metadata": {
    "collapsed": true
   },
   "outputs": [],
   "source": [
    "data=cur.fetchall()"
   ]
  },
  {
   "cell_type": "markdown",
   "metadata": {},
   "source": [
    "Посмотрим что у нас получилось в результате запроса. Да, в самом деле первые 10 добавленных статей.<br>\n",
    "Ура! Мы умеем сохранять данные в СУБД и получать их обратно."
   ]
  },
  {
   "cell_type": "code",
   "execution_count": 14,
   "metadata": {},
   "outputs": [
    {
     "data": {
      "text/plain": [
       "[{'Article_name': 'Видообразование русского глагола: префиксация и/или суффиксация?',\n",
       "  'author': 'Е.В. Горбова',\n",
       "  'domain': '1',\n",
       "  'id_text': 1,\n",
       "  'journal': '1',\n",
       "  'source': 'http://www.issuesinlinguistics.ru/pubs/видообразование-русского-глагола-префиксация-и-или-суффиксация',\n",
       "  'year': 2015},\n",
       " {'Article_name': 'Синтаксис «Слова о полку Игореве» в сопоставлении с его поэтическими переложениями',\n",
       "  'author': 'Н.В. Патроева',\n",
       "  'domain': '1',\n",
       "  'id_text': 2,\n",
       "  'journal': '1',\n",
       "  'source': 'http://www.issuesinlinguistics.ru/pubs/синтаксис-слова-о-полку-игореве-в-сопоставлении-с-его-поэтическими-переложениями',\n",
       "  'year': 2015},\n",
       " {'Article_name': 'Обзор лингвистических проектов, поддерживаемых Российским гуманитарным научным фондом в 2014 году',\n",
       "  'author': 'Е.Р. Добрушина',\n",
       "  'domain': '1',\n",
       "  'id_text': 3,\n",
       "  'journal': '1',\n",
       "  'source': 'http://www.issuesinlinguistics.ru/pubs/обзор-лингвистических-проектов-поддерживаемых-российским-гуманитарным-научным-фондом-в-2014-году',\n",
       "  'year': 2015},\n",
       " {'Article_name': 'VI Международная конференция по когнитивной науке',\n",
       "  'author': 'М.Д. Васильева',\n",
       "  'domain': '1',\n",
       "  'id_text': 4,\n",
       "  'journal': '1',\n",
       "  'source': 'http://www.issuesinlinguistics.ru/pubs/vi-международная-конференция-по-когнитивной-науке',\n",
       "  'year': 2015},\n",
       " {'Article_name': 'Рече-поведенческая переинтерпретация четырех строф главы третьей «Евгения Онегина»',\n",
       "  'author': 'Е.М. Верещагин',\n",
       "  'domain': '1',\n",
       "  'id_text': 5,\n",
       "  'journal': '1',\n",
       "  'source': 'http://www.issuesinlinguistics.ru/pubs/рече-поведенческая-переинтерпретация-четырех-строф-главы-третьей-евгения-онегина',\n",
       "  'year': 2015},\n",
       " {'Article_name': 'Кочующая норма, или Микродиахронические похождения слова `ихний` в русском, украинском и белорусском языках',\n",
       "  'author': 'Е.Р. Добрушина',\n",
       "  'domain': '1',\n",
       "  'id_text': 6,\n",
       "  'journal': '1',\n",
       "  'source': 'http://www.issuesinlinguistics.ru/pubs/кочующая-норма-или-микродиахронические-похождения-слова-ихний-в-русском-украинском-и-белорусском-языках',\n",
       "  'year': 2015},\n",
       " {'Article_name': 'Показатель то как средство акцентуации импликативного отношения (на примере союза `если… то`)',\n",
       "  'author': 'О.Е. Пекелис',\n",
       "  'domain': '1',\n",
       "  'id_text': 7,\n",
       "  'journal': '1',\n",
       "  'source': 'http://www.issuesinlinguistics.ru/pubs/показатель-то-как-средство-акцентуации-импликативного-отношения-на-примере-союза-если-то',\n",
       "  'year': 2015},\n",
       " {'Article_name': 'Психологическая нереальность синтаксических следов',\n",
       "  'author': 'А.К. Лауринавичюте',\n",
       "  'domain': '1',\n",
       "  'id_text': 8,\n",
       "  'journal': '1',\n",
       "  'source': 'http://www.issuesinlinguistics.ru/pubs/психологическая-нереальность-синтаксических-следов',\n",
       "  'year': 2015},\n",
       " {'Article_name': 'К вопроcу о вытеснении простого претерита в средненижненемецком языке',\n",
       "  'author': 'Е.А. Власова',\n",
       "  'domain': '1',\n",
       "  'id_text': 9,\n",
       "  'journal': '1',\n",
       "  'source': 'http://www.issuesinlinguistics.ru/pubs/к-вопроcу-о-вытеснении-простого-претерита-в-средненижненемецком-языке',\n",
       "  'year': 2015},\n",
       " {'Article_name': 'К вопросу о семантическом калькировании и «вторичном заимствовании» в русском языке рубежа XX—XXI веков',\n",
       "  'author': 'А.А. Горбов',\n",
       "  'domain': '1',\n",
       "  'id_text': 10,\n",
       "  'journal': '1',\n",
       "  'source': 'http://www.issuesinlinguistics.ru/pubs/к-вопросу-о-семантическом-калькировании-и-вторичном-заимствовании-в-русском-языке-рубежа-xx-xxi-веков',\n",
       "  'year': 2015}]"
      ]
     },
     "execution_count": 14,
     "metadata": {},
     "output_type": "execute_result"
    }
   ],
   "source": [
    "data"
   ]
  }
 ],
 "metadata": {
  "kernelspec": {
   "display_name": "Python 3",
   "language": "python",
   "name": "python3"
  },
  "language_info": {
   "codemirror_mode": {
    "name": "ipython",
    "version": 3
   },
   "file_extension": ".py",
   "mimetype": "text/x-python",
   "name": "python",
   "nbconvert_exporter": "python",
   "pygments_lexer": "ipython3",
   "version": "3.6.5"
  }
 },
 "nbformat": 4,
 "nbformat_minor": 2
}
