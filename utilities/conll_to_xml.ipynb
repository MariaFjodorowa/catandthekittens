{
 "cells": [
  {
   "cell_type": "code",
   "execution_count": 11,
   "metadata": {
    "collapsed": true
   },
   "outputs": [],
   "source": [
    "f = open('inion_2015_1.conll')\n",
    "data = f.read()"
   ]
  },
  {
   "cell_type": "code",
   "execution_count": 15,
   "metadata": {
    "collapsed": true
   },
   "outputs": [],
   "source": [
    "from conllu import parse, parse_tree\n",
    "from conllu import print_tree"
   ]
  },
  {
   "cell_type": "code",
   "execution_count": 24,
   "metadata": {},
   "outputs": [
    {
     "name": "stdout",
     "output_type": "stream",
     "text": [
      "9\n"
     ]
    }
   ],
   "source": [
    "tree = parse_tree(data)\n",
    "print(tree[0][0]['id'])"
   ]
  },
  {
   "cell_type": "code",
   "execution_count": 26,
   "metadata": {},
   "outputs": [
    {
     "name": "stdout",
     "output_type": "stream",
     "text": [
      "TreeNode(data=OrderedDict([('id', 9), ('form', 'ЧИХАРЕВ'), ('lemma', 'ЧИХАРЕВ'), ('upostag', 'S'), ('xpostag', 'S f anim nom sg'), ('feats', 'S f anim nom sg'), ('head', 0), ('deprel', 'ROOT'), ('deps', None), ('misc', None)]), children=[TreeNode(data=OrderedDict([('id', 1), ('form', 'СОСТОЯНИЕ'), ('lemma', 'СОСТОЯНИЕ'), ('upostag', 'S'), ('xpostag', 'S n inan nom sg'), ('feats', 'S n inan nom sg'), ('head', 9), ('deprel', 'предик'), ('deps', None), ('misc', None)]), children=[TreeNode(data=OrderedDict([('id', 2), ('form', 'ДИСЦИПЛИНЫ'), ('lemma', 'ДИСЦИПЛИНА'), ('upostag', 'S'), ('xpostag', 'S m anim gen pl'), ('feats', 'S m anim gen pl'), ('head', 1), ('deprel', 'квазиагент'), ('deps', None), ('misc', None)]), children=[])]), TreeNode(data=OrderedDict([('id', 3), ('form', ':'), ('lemma', ':'), ('upostag', ':'), ('xpostag', ':'), ('feats', 'PUNC'), ('head', 9), ('deprel', 'опред'), ('deps', None), ('misc', None)]), children=[]), TreeNode(data=OrderedDict([('id', 6), ('form', 'ПОЛИТИКА'), ('lemma', 'ПОЛИТИКА'), ('upostag', 'S'), ('xpostag', 'S f inan nom sg'), ('feats', 'S f inan nom sg'), ('head', 9), ('deprel', 'предик'), ('deps', None), ('misc', None)]), children=[TreeNode(data=OrderedDict([('id', 4), ('form', 'СРАВНИТЕЛЬНАЯ'), ('lemma', 'СРАВНИТЕЛЬНЫЙ'), ('upostag', 'A'), ('xpostag', 'A - nom sg plen f -'), ('feats', 'A - nom sg plen f -'), ('head', 6), ('deprel', 'опред'), ('deps', None), ('misc', None)]), children=[]), TreeNode(data=OrderedDict([('id', 5), ('form', 'МИРОВАЯ'), ('lemma', 'МИРОВОЙ'), ('upostag', 'A'), ('xpostag', 'A - nom sg plen f -'), ('feats', 'A - nom sg plen f -'), ('head', 6), ('deprel', 'опред'), ('deps', None), ('misc', None)]), children=[])]), TreeNode(data=OrderedDict([('id', 7), ('form', 'И.'), ('lemma', 'И.'), ('upostag', 'S'), ('xpostag', 'S - - nonflex nonflex'), ('feats', 'S - - nonflex nonflex'), ('head', 9), ('deprel', 'вспом'), ('deps', None), ('misc', None)]), children=[]), TreeNode(data=OrderedDict([('id', 8), ('form', 'А.'), ('lemma', 'А.'), ('upostag', 'S'), ('xpostag', 'S - - nonflex nonflex'), ('feats', 'S - - nonflex nonflex'), ('head', 9), ('deprel', 'вспом'), ('deps', None), ('misc', None)]), children=[]), TreeNode(data=OrderedDict([('id', 10), ('form', ','), ('lemma', ','), ('upostag', ','), ('xpostag', ','), ('feats', 'PUNC'), ('head', 9), ('deprel', 'PUNC'), ('deps', None), ('misc', None)]), children=[]), TreeNode(data=OrderedDict([('id', 13), ('form', 'ПОЛУЛЯХ'), ('lemma', 'ПОЛУЛЬ'), ('upostag', 'S'), ('xpostag', 'S m anim loc pl'), ('feats', 'S m anim loc pl'), ('head', 9), ('deprel', 'релят'), ('deps', None), ('misc', None)]), children=[TreeNode(data=OrderedDict([('id', 11), ('form', 'Д.'), ('lemma', 'Д.'), ('upostag', 'S'), ('xpostag', 'S - - nonflex nonflex'), ('feats', 'S - - nonflex nonflex'), ('head', 13), ('deprel', '1-компл'), ('deps', None), ('misc', None)]), children=[]), TreeNode(data=OrderedDict([('id', 12), ('form', 'С.'), ('lemma', 'С.'), ('upostag', 'S'), ('xpostag', 'S - - nonflex nonflex'), ('feats', 'S - - nonflex nonflex'), ('head', 13), ('deprel', 'опред'), ('deps', None), ('misc', None)]), children=[])]), TreeNode(data=OrderedDict([('id', 19), ('form', 'ТЕЧЕНИЕ'), ('lemma', 'ТЕЧЕНИЕ'), ('upostag', 'S'), ('xpostag', 'S f inan nom sg'), ('feats', 'S f inan nom sg'), ('head', 9), ('deprel', 'сент-соч'), ('deps', None), ('misc', None)]), children=[TreeNode(data=OrderedDict([('id', 16), ('form', 'ПОЛИТИКА'), ('lemma', 'ПОЛИТИКА'), ('upostag', 'S'), ('xpostag', 'S f inan nom sg'), ('feats', 'S f inan nom sg'), ('head', 19), ('deprel', 'предик'), ('deps', None), ('misc', None)]), children=[TreeNode(data=OrderedDict([('id', 14), ('form', 'СРАВНИТЕЛЬНАЯ'), ('lemma', 'СРАВНИТЕЛЬНЫЙ'), ('upostag', 'A'), ('xpostag', 'A - nom sg plen f -'), ('feats', 'A - nom sg plen f -'), ('head', 16), ('deprel', 'опред'), ('deps', None), ('misc', None)]), children=[]), TreeNode(data=OrderedDict([('id', 15), ('form', 'МИРОВАЯ'), ('lemma', 'МИРОВОЙ'), ('upostag', 'A'), ('xpostag', 'A - nom sg plen f -'), ('feats', 'A - nom sg plen f -'), ('head', 16), ('deprel', 'опред'), ('deps', None), ('misc', None)]), children=[])]), TreeNode(data=OrderedDict([('id', 17), ('form', ':'), ('lemma', ':'), ('upostag', ':'), ('xpostag', ':'), ('feats', 'PUNC'), ('head', 19), ('deprel', 'опред'), ('deps', None), ('misc', None)]), children=[]), TreeNode(data=OrderedDict([('id', 18), ('form', 'ОСНОВНОЕ'), ('lemma', 'ОСНОВНОЙ'), ('upostag', 'A'), ('xpostag', 'A - nom sg plen f -'), ('feats', 'A - nom sg plen f -'), ('head', 19), ('deprel', 'опред'), ('deps', None), ('misc', None)]), children=[])]), TreeNode(data=OrderedDict([('id', 20), ('form', 'ИЛИ'), ('lemma', 'ИЛИ'), ('upostag', 'CONJ'), ('xpostag', 'CONJ'), ('feats', 'CONJ'), ('head', 9), ('deprel', 'сочин'), ('deps', None), ('misc', None)]), children=[TreeNode(data=OrderedDict([('id', 21), ('form', 'ОДНО'), ('lemma', 'ОДИН'), ('upostag', 'A'), ('xpostag', 'A - acc sg plen n inan'), ('feats', 'A - acc sg plen n inan'), ('head', 20), ('deprel', 'соч-союзн'), ('deps', None), ('misc', None)]), children=[TreeNode(data=OrderedDict([('id', 22), ('form', 'ИЗ'), ('lemma', 'ИЗ'), ('upostag', 'PR'), ('xpostag', 'PR'), ('feats', 'PR'), ('head', 21), ('deprel', '1-компл'), ('deps', None), ('misc', None)]), children=[TreeNode(data=OrderedDict([('id', 23), ('form', 'НАПРАВЛЕНИЙ'), ('lemma', 'НАПРАВЛЕНИЕ'), ('upostag', 'S'), ('xpostag', 'S n inan gen pl'), ('feats', 'S n inan gen pl'), ('head', 22), ('deprel', 'предл'), ('deps', None), ('misc', None)]), children=[TreeNode(data=OrderedDict([('id', 24), ('form', '?'), ('lemma', '?'), ('upostag', 'SENT'), ('xpostag', 'SENT'), ('feats', 'SENT'), ('head', 23), ('deprel', 'PUNC'), ('deps', None), ('misc', None)]), children=[])])])])])])\n"
     ]
    }
   ],
   "source": [
    "print(tree[0])"
   ]
  },
  {
   "cell_type": "code",
   "execution_count": 29,
   "metadata": {
    "collapsed": true
   },
   "outputs": [],
   "source": [
    "import dicttoxml\n",
    "from dicttoxml import dicttoxml"
   ]
  },
  {
   "cell_type": "code",
   "execution_count": 36,
   "metadata": {
    "collapsed": true
   },
   "outputs": [],
   "source": [
    "xml = dicttoxml(tree)"
   ]
  },
  {
   "cell_type": "code",
   "execution_count": 46,
   "metadata": {
    "collapsed": true
   },
   "outputs": [],
   "source": [
    "from xml.dom.minidom import parseString"
   ]
  },
  {
   "cell_type": "code",
   "execution_count": 50,
   "metadata": {
    "collapsed": true
   },
   "outputs": [],
   "source": [
    "dom = parseString(xml)\n",
    "file_handle = open(\"out.xml\",\"w\")\n",
    "dom.writexml(file_handle)\n",
    "file_handle.close()"
   ]
  }
 ],
 "metadata": {
  "kernelspec": {
   "display_name": "Python 3",
   "language": "python",
   "name": "python3"
  },
  "language_info": {
   "codemirror_mode": {
    "name": "ipython",
    "version": 3
   },
   "file_extension": ".py",
   "mimetype": "text/x-python",
   "name": "python",
   "nbconvert_exporter": "python",
   "pygments_lexer": "ipython3",
   "version": "3.5.4"
  }
 },
 "nbformat": 4,
 "nbformat_minor": 2
}
