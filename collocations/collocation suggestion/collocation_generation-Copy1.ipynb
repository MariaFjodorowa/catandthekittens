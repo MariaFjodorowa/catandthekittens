{
 "cells": [
  {
   "cell_type": "code",
   "execution_count": 1,
   "metadata": {
    "collapsed": true
   },
   "outputs": [],
   "source": [
    "import pandas as pd"
   ]
  },
  {
   "cell_type": "code",
   "execution_count": 3,
   "metadata": {},
   "outputs": [],
   "source": [
    "new_df=pd.read_csv('suggestions.csv')"
   ]
  },
  {
   "cell_type": "code",
   "execution_count": 4,
   "metadata": {
    "collapsed": true
   },
   "outputs": [],
   "source": [
    "from pymystem3 import Mystem\n",
    "m=Mystem()"
   ]
  },
  {
   "cell_type": "code",
   "execution_count": 5,
   "metadata": {
    "collapsed": true
   },
   "outputs": [],
   "source": [
    "import operator\n",
    "def suggest(input_string, collocations):\n",
    "    c_max=max(collocations.pmi)\n",
    "    suggestions={}\n",
    "    w1=input_string.split()[0]\n",
    "    w2=input_string.split()[1]\n",
    "    if w1 not in list(collocations.first_word) and w2 not in list(collocations.second_word):\n",
    "        pass\n",
    "    else:\n",
    "        tags=[]\n",
    "        if w1 not in list(collocations.first_word):\n",
    "            w2_ind=list(collocations.second_word).index(w2)\n",
    "            tags.append(m.analyze(w1)[0]['analysis'][0]['gr'].split(',')[0])\n",
    "            tags.append(collocations.second_tag[w2_ind])\n",
    "            for i in range(len(collocations)-1):\n",
    "                if collocations.second_word[i]==w2 and collocations.first_tag[i]==tags[0]:\n",
    "                    suggestions[collocations.first_word[i]+ ' ' +w2]=collocations.pmi[i]/c_max\n",
    "                    #suggestions[collocations.first_word[i]+ ' ' +w2]+=model.wv.similarity(collocations.first_word[i], w2)\n",
    "        elif w2 not in list(collocations.second_word):\n",
    "            w1_ind=list(collocations.first_word).index(w1)\n",
    "            tags.append(collocations.first_tag[w1_ind])\n",
    "            tags.append(m.analyze(w2)[0]['analysis'][0]['gr'].split(',')[0])\n",
    "            for i in range(len(collocations)-1):\n",
    "                if collocations.first_word[i]==w1 and collocations.second_tag[i]==tags[1]:\n",
    "                    suggestions[w1+ ' ' +collocations.second_word[i]]=collocations.pmi[i]/c_max\n",
    "                    #suggestions[collocations.first_word[i]+ ' ' +w2]+=model.wv.similarity(w1, collocations.second_word[i])\n",
    "        else:\n",
    "            w1_sub=[]\n",
    "            w2_sub=[]\n",
    "            w1_ind=list(collocations.first_word).index(w1)\n",
    "            w2_ind=list(collocations.second_word).index(w2)\n",
    "            tags.append(collocations.first_tag[w1_ind])\n",
    "            tags.append(collocations.second_tag[w2_ind])\n",
    "            for i in range(len(collocations)-1):\n",
    "                if collocations.first_word[i]==w1 and collocations.second_tag[i]==tags[1]:\n",
    "                    suggestions[w1+ ' ' +collocations.second_word[i]]=collocations.pmi[i]/c_max\n",
    "                    #suggestions[collocations.first_word[i]+ ' ' +w2]+=model.wv.similarity(w1, collocations.second_word[i])\n",
    "                    w2_sub.append(collocations.second_word[i])\n",
    "                if collocations.second_word[i]==w2 and collocations.first_tag[i]==tags[0]:\n",
    "                    suggestions[collocations.first_word[i]+ ' ' +w2]=collocations.pmi[i]/c_max\n",
    "                    #suggestions[collocations.first_word[i]+ ' ' +w2]+=model.wv.similarity(collocations.first_word[i], w2)\n",
    "                    w1_sub.append(collocations.first_word[i])\n",
    "            for w in w1_sub:\n",
    "                for j in range(len(collocations)-1):\n",
    "                    if collocations.first_word[j]==w and collocations.second_word[j] in w2_sub:\n",
    "                        suggestions[w+' '+w2]+=1.0/len(w2_sub)\n",
    "            for k in w2_sub:\n",
    "                for j in range(len(collocations)-1):\n",
    "                    if collocations.second_word[j]==k and collocations.first_word[j] in w1_sub:\n",
    "                        suggestions[w1+' '+k]+=1.0/len(w1_sub)\n",
    "    if len(suggestions)>10:\n",
    "        return sorted(suggestions.items(), key=operator.itemgetter(1))[-10:]\n",
    "    else:\n",
    "        return sorted(suggestions.items(), key=operator.itemgetter(1))"
   ]
  },
  {
   "cell_type": "code",
   "execution_count": 6,
   "metadata": {},
   "outputs": [
    {
     "data": {
      "text/plain": [
       "[('автор выделяет', 0.54247529802396188),\n",
       " ('автор предлагает', 0.56440546951472503),\n",
       " ('автор выражает', 0.5659547808523554),\n",
       " ('автор придерживается', 0.57419794167165827),\n",
       " ('автор публикует', 0.605920585319349),\n",
       " ('автор апеллирует', 0.66015080282660032),\n",
       " ('автор наталкивается', 0.66015080282660032),\n",
       " ('автор посвящает', 0.66015080282660032),\n",
       " ('автор сосредоточивает', 0.66015080282660032),\n",
       " ('автор стремился', 0.66015080282660032)]"
      ]
     },
     "execution_count": 6,
     "metadata": {},
     "output_type": "execute_result"
    }
   ],
   "source": [
    "suggest('автор думает', new_df)"
   ]
  },
  {
   "cell_type": "code",
   "execution_count": 7,
   "metadata": {},
   "outputs": [
    {
     "data": {
      "text/plain": [
       "[('автор слово', 0.22816458845353194),\n",
       " ('автор данных', 0.26607138814595011),\n",
       " ('автор слова', 0.26607138814595011),\n",
       " ('автор статьи', 0.32664867892126986),\n",
       " ('автор юшманов', 0.33600161247347426),\n",
       " ('автор эксперимента', 0.39536400824943946),\n",
       " ('автор игоревой', 0.42978476981751834),\n",
       " ('автор оригинала', 0.42978476981751834),\n",
       " ('автор реплики', 0.43401486300945918),\n",
       " ('автор открытия', 0.605920585319349)]"
      ]
     },
     "execution_count": 7,
     "metadata": {},
     "output_type": "execute_result"
    }
   ],
   "source": [
    "suggest('автор котик', new_df)"
   ]
  },
  {
   "cell_type": "code",
   "execution_count": 8,
   "metadata": {},
   "outputs": [
    {
     "data": {
      "text/plain": [
       "[('схема предлагает', 0.49071081748177076),\n",
       " ('ягич предлагает', 0.54013967186800538),\n",
       " ('автор предлагает', 0.56440546951472503),\n",
       " ('исследователь предлагает', 0.59818711793699597),\n",
       " ('фалилеев предлагает', 0.69238313991124101)]"
      ]
     },
     "execution_count": 8,
     "metadata": {},
     "output_type": "execute_result"
    }
   ],
   "source": [
    "suggest('котик предлагает', new_df)"
   ]
  },
  {
   "cell_type": "code",
   "execution_count": 9,
   "metadata": {},
   "outputs": [
    {
     "data": {
      "text/plain": [
       "[('анализ начинается', 0.4425974502434144),\n",
       " ('анализ осуществлялся', 0.48858450693136551),\n",
       " ('анализ показал', 0.51285030457808689),\n",
       " ('анализ производился', 0.5707201395245689),\n",
       " ('автор апеллирует', 0.86015080282660028),\n",
       " ('анализ показывает', 1.4138275217660417)]"
      ]
     },
     "execution_count": 9,
     "metadata": {},
     "output_type": "execute_result"
    }
   ],
   "source": [
    "suggest('анализ апеллирует', new_df)"
   ]
  },
  {
   "cell_type": "code",
   "execution_count": 10,
   "metadata": {},
   "outputs": [
    {
     "data": {
      "text/plain": [
       "[]"
      ]
     },
     "execution_count": 10,
     "metadata": {},
     "output_type": "execute_result"
    }
   ],
   "source": [
    "suggest('котик котик', new_df)"
   ]
  },
  {
   "cell_type": "code",
   "execution_count": null,
   "metadata": {
    "collapsed": true
   },
   "outputs": [],
   "source": []
  }
 ],
 "metadata": {
  "kernelspec": {
   "display_name": "Python 3",
   "language": "python",
   "name": "python3"
  },
  "language_info": {
   "codemirror_mode": {
    "name": "ipython",
    "version": 3
   },
   "file_extension": ".py",
   "mimetype": "text/x-python",
   "name": "python",
   "nbconvert_exporter": "python",
   "pygments_lexer": "ipython3",
   "version": "3.6.4"
  }
 },
 "nbformat": 4,
 "nbformat_minor": 2
}
