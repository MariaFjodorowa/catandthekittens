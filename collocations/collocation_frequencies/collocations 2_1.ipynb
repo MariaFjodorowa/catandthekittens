{
 "metadata": {
  "name": "",
  "signature": "sha256:b37d728318e103c491a6e663de841e4beae926758553e0c766a4961de0b8b560"
 },
 "nbformat": 3,
 "nbformat_minor": 0,
 "worksheets": [
  {
   "cells": [
    {
     "cell_type": "code",
     "collapsed": false,
     "input": [
      "f = open('inion_2015_1.conll', encoding='utf-8')\n",
      "data = f.read()"
     ],
     "language": "python",
     "metadata": {},
     "outputs": [],
     "prompt_number": 1
    },
    {
     "cell_type": "code",
     "collapsed": false,
     "input": [
      "from conllu import parse, parse_tree\n",
      "from conllu import print_tree"
     ],
     "language": "python",
     "metadata": {},
     "outputs": [],
     "prompt_number": 2
    },
    {
     "cell_type": "code",
     "collapsed": false,
     "input": [
      "tree = parse(data)"
     ],
     "language": "python",
     "metadata": {},
     "outputs": [],
     "prompt_number": 3
    },
    {
     "cell_type": "code",
     "collapsed": false,
     "input": [
      "def get_ngrams(words, n):\n",
      "    ngrams=[]\n",
      "    if n==1:\n",
      "        for i in words:\n",
      "            if i[1]!='SENT':\n",
      "                ngrams.append(i)\n",
      "    else:\n",
      "        for i in range(len(words)-n):\n",
      "            ngram=words[i:(i+n)]\n",
      "            for g in ngram:\n",
      "                if g[1]=='SENT':\n",
      "                    ngram.clear()\n",
      "                    break\n",
      "            if ngram:\n",
      "                word=''\n",
      "                tag=''\n",
      "                for i in ngram:\n",
      "                    word = word+i[0]+' '\n",
      "                    tag = tag+i[1]+' '\n",
      "                ngrams.append((word[:-1], tag[:-1]))\n",
      "    return ngrams    "
     ],
     "language": "python",
     "metadata": {},
     "outputs": [],
     "prompt_number": 4
    },
    {
     "cell_type": "code",
     "collapsed": false,
     "input": [
      "words=[]\n",
      "for i in tree:\n",
      "    for j in i:\n",
      "        if j['form']!='_' and j['upostag']!='_' and j['upostag']!='NONLEX' and j['form'] not in '[]\\/':\n",
      "            for w in j['form'].lower().split():\n",
      "                words.append((w, j['upostag']))"
     ],
     "language": "python",
     "metadata": {},
     "outputs": [],
     "prompt_number": 5
    },
    {
     "cell_type": "code",
     "collapsed": false,
     "input": [
      "corpus_len = len(words)"
     ],
     "language": "python",
     "metadata": {},
     "outputs": [],
     "prompt_number": 6
    },
    {
     "cell_type": "code",
     "collapsed": false,
     "input": [
      "unigrams=get_ngrams(words, 1)\n",
      "bigrams=get_ngrams(words, 2)\n",
      "trigrams=get_ngrams(words, 3)\n",
      "quadrograms=get_ngrams(words, 4)\n",
      "fivegrams=get_ngrams(words, 5)\n",
      "sixgrams=get_ngrams(words, 6)"
     ],
     "language": "python",
     "metadata": {},
     "outputs": [],
     "prompt_number": 7
    },
    {
     "cell_type": "code",
     "collapsed": false,
     "input": [
      "import collections"
     ],
     "language": "python",
     "metadata": {},
     "outputs": [],
     "prompt_number": 8
    },
    {
     "cell_type": "code",
     "collapsed": false,
     "input": [
      "unigram_counts = collections.Counter(unigrams)\n",
      "bigram_counts = collections.Counter(bigrams)\n",
      "trigram_counts = collections.Counter(trigrams)\n",
      "quadrogram_counts = collections.Counter(quadrograms)\n",
      "fivegram_counts = collections.Counter(fivegrams)\n",
      "sixgram_counts = collections.Counter(sixgrams)"
     ],
     "language": "python",
     "metadata": {},
     "outputs": [],
     "prompt_number": 9
    },
    {
     "cell_type": "code",
     "collapsed": false,
     "input": [
      "import datrie"
     ],
     "language": "python",
     "metadata": {},
     "outputs": [],
     "prompt_number": 10
    },
    {
     "cell_type": "code",
     "collapsed": false,
     "input": [
      "small=1e-20"
     ],
     "language": "python",
     "metadata": {},
     "outputs": [],
     "prompt_number": 11
    },
    {
     "cell_type": "code",
     "collapsed": false,
     "input": [
      "def freq_trie(ngrams):\n",
      "    trie=datrie.Trie('\u0439\u0446\u0443\u043a\u0435\u043d\u0433\u0448\u0449\u0437\u0445\u044a\u0444\u044b\u0432\u0430\u043f\u0440\u043e\u043b\u0434\u0436\u044d\u044f\u0447\u0441\u043c\u0438\u0442\u044c\u0431\u044e\u0451 -,:;/ MNBVCXZLKJHGFDSAPOIUYTREWQ')\n",
      "    for i in ngrams.items():\n",
      "        trie[i[0][0]+'/'+i[0][1]]=float(i[1])+small\n",
      "    return trie"
     ],
     "language": "python",
     "metadata": {},
     "outputs": [],
     "prompt_number": 12
    },
    {
     "cell_type": "code",
     "collapsed": false,
     "input": [
      "uni_freq=freq_trie(unigram_counts)\n",
      "bi_freq=freq_trie(bigram_counts)\n",
      "tri_freq=freq_trie(trigram_counts)\n",
      "quadro_freq=freq_trie(quadrogram_counts)\n",
      "five_freq=freq_trie(fivegram_counts)\n",
      "six_freq=freq_trie(sixgram_counts)"
     ],
     "language": "python",
     "metadata": {},
     "outputs": [],
     "prompt_number": 13
    },
    {
     "cell_type": "code",
     "collapsed": false,
     "input": [
      "import math"
     ],
     "language": "python",
     "metadata": {},
     "outputs": [],
     "prompt_number": 14
    },
    {
     "cell_type": "code",
     "collapsed": false,
     "input": [
      "#if not small then math domain error T_T\n",
      "def L(k,n,x):\n",
      "    return (math.pow(x,k)*math.pow((1-x),(n-k)))+small"
     ],
     "language": "python",
     "metadata": {},
     "outputs": [],
     "prompt_number": 15
    },
    {
     "cell_type": "code",
     "collapsed": false,
     "input": [
      "import pandas as pd\n",
      "def counts_table(ngram_freq_trie, gram_freq_trie):\n",
      "    ngrams=[]\n",
      "    tags=[]\n",
      "    freq=[]\n",
      "    raw=[]\n",
      "    lr=[]\n",
      "    pm=[]\n",
      "    ts=[]\n",
      "    for i in ngram_freq_trie.items():\n",
      "        ngram_words = i[0].split('/')[0]\n",
      "        ngrams.append(ngram_words)\n",
      "        ngram_tags=i[0].split('/')[1]\n",
      "        tags.append(ngram_tags)\n",
      "        c12=i[1]\n",
      "        freq.append(i[1])\n",
      "        gram_words=' '.join(ngram_words.split()[:-1])\n",
      "        gram_tags=' '.join(ngram_tags.split()[:-1])\n",
      "        c1=small\n",
      "        try:\n",
      "            c1=gram_freq_trie[gram_words+'/'+gram_tags]\n",
      "        except:\n",
      "            pass\n",
      "        last_word=ngram_words.split()[-1]\n",
      "        last_tag=ngram_tags.split()[-1]\n",
      "        c2=small\n",
      "        try:\n",
      "            c2=uni_freq[last_word+'/'+last_tag]\n",
      "        except:\n",
      "            pass\n",
      "        \n",
      "        raw_freq=i[1]/corpus_len\n",
      "        raw.append(raw_freq)\n",
      "        \n",
      "        ph0=(c1/corpus_len)*(c2/corpus_len)\n",
      "        ph1=c12/corpus_len\n",
      "        t_score=(ph1-ph0)/math.sqrt(ph1/corpus_len)\n",
      "        ts.append(t_score)\n",
      "        \n",
      "        pp12=c12/corpus_len\n",
      "        pp1=c1/corpus_len\n",
      "        pp2=c2/corpus_len\n",
      "        pmi=math.log(pp12/(pp1*pp2), 2.0)\n",
      "        pm.append(pmi)\n",
      "        \n",
      "        p=c2/corpus_len\n",
      "        p1=c12/c1\n",
      "        p2=(c2-c12)/(corpus_len-c1)\n",
      "        lik_rat=-2*(math.log(L(c12,c1,p))+math.log(L(c2-c12,corpus_len-c1,p))-math.log(L(c12,c1,p1))-math.log(L(c2-c12,corpus_len-c1,p2)))\n",
      "        lr.append(lik_rat)\n",
      "    df=pd.DataFrame({'ngram':ngrams, 'tag':tags, 'frequency':freq, 'raw frequency':raw, 'likelihood ratio':lr, 'pmi':pm, 't score':ts})\n",
      "    return df         "
     ],
     "language": "python",
     "metadata": {},
     "outputs": [],
     "prompt_number": 16
    },
    {
     "cell_type": "code",
     "collapsed": false,
     "input": [
      "uni=[]\n",
      "uni_t=[]\n",
      "uni_f=[]\n",
      "uni_r=[]\n",
      "for i in uni_freq.items():\n",
      "    uni_words = i[0].split('/')[0]\n",
      "    uni.append(uni_words)\n",
      "    uni_tags=i[0].split('/')[1]\n",
      "    uni_t.append(uni_tags)\n",
      "    uni_f.append(i[1])\n",
      "    uni_r.append(i[1]/corpus_len)\n",
      "uni_df=pd.DataFrame({'ngram':uni, 'tag':uni_t, 'frequency':uni_f, 'raw frequency':uni_r})"
     ],
     "language": "python",
     "metadata": {},
     "outputs": [],
     "prompt_number": 17
    },
    {
     "cell_type": "code",
     "collapsed": false,
     "input": [
      "writer = pd.ExcelWriter('collocation_counts.xlsx')\n",
      "uni_df.to_excel(writer,'unigrams')\n",
      "counts_table(bi_freq, uni_freq).to_excel(writer,'bigrams')\n",
      "counts_table(tri_freq, bi_freq).to_excel(writer,'trigrams')\n",
      "counts_table(quadro_freq, tri_freq).to_excel(writer,'quadrograms')\n",
      "counts_table(five_freq, quadro_freq).to_excel(writer,'fivegrams')\n",
      "counts_table(six_freq, five_freq).to_excel(writer,'sixgrams')\n",
      "writer.save()"
     ],
     "language": "python",
     "metadata": {},
     "outputs": [],
     "prompt_number": 18
    },
    {
     "cell_type": "code",
     "collapsed": false,
     "input": [],
     "language": "python",
     "metadata": {},
     "outputs": []
    }
   ],
   "metadata": {}
  }
 ]
}